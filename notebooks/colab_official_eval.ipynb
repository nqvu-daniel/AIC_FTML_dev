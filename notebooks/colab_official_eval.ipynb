{
 "cells": [
  {
   "cell_type": "markdown",
   "metadata": {},
   "source": [
    "# AIC 2024/2025 Official – Inference + Evaluation\n",
    "This Colab runs host inference, writes per-query CSVs named `{query_id}.csv`, and evaluates with the official scoring."
   ]
  },
  {
   "cell_type": "code",
   "execution_count": null,
   "metadata": {},
   "outputs": [],
   "source": [
    "# System check\n",
    "!nvidia-smi || true\n",
    "!python --version\n",
    "import os, sys, pathlib; print('CWD:', os.getcwd())"
   ]
  },
  {
   "cell_type": "code",
   "execution_count": null,
   "metadata": {},
   "outputs": [],
   "source": "# Setup: Clone repo and install deps (auto FAISS CPU/GPU)\nREPO_URL = 'https://github.com/nqvu-daniel/AIC_FTML_dev.git'\nREPO_NAME = 'AIC_FTML_dev'\nimport subprocess, pathlib, sys, os\nif not pathlib.Path(REPO_NAME).exists():\n    subprocess.run(['git', 'clone', REPO_URL], check=True)\n%cd {REPO_NAME}\n!python -m pip install -q -r requirements.txt\n\n# Install FAISS based on CUDA availability\ntry:\n    import torch\n    if torch.cuda.is_available():\n        print(\"GPU detected, installing faiss-gpu-cu12...\")\n        !pip install -q faiss-gpu-cu12\n        print('Installed faiss-gpu-cu12 (CUDA 12 compatible)')\n    else:\n        print(\"No GPU detected, installing faiss-cpu...\")\n        !pip install -q faiss-cpu\n        print('Installed faiss-cpu')\nexcept Exception as e:\n    print(f'FAISS install error: {e}')\n    !pip install -q faiss-cpu\n    print('Fallback: Installed faiss-cpu')\n    \nprint('Setup done')"
  },
  {
   "cell_type": "markdown",
   "metadata": {},
   "source": [
    "## Inference (KIS/VQA) – Official File Naming\n",
    "- Provide `ARTIFACTS_BUNDLE_URL` and/or `RERANKER_MODEL_URL` if needed.\n",
    "- Output path auto-uses `submissions/{query_id}.csv`."
   ]
  },
  {
   "cell_type": "code",
   "execution_count": null,
   "metadata": {},
   "outputs": [],
   "source": "# Configure your query\nQUERY = 'a person opening a laptop'\nQUERY_ID = 'q1'  # official id\nTASK = 'kis'     # 'kis' or 'vqa'\nANSWER = ''      # required if TASK='vqa'\nARTIFACTS_BUNDLE_URL = ''  # optional\nRERANKER_MODEL_URL = ''    # optional\n\n# Run inference\ncmd = ['python', 'src/retrieval/use.py', '--query', QUERY, '--query_id', QUERY_ID, '--task', TASK]\nif TASK == 'vqa':\n    assert ANSWER, 'For TASK=vqa, set ANSWER'\n    cmd += ['--answer', ANSWER]\nif ARTIFACTS_BUNDLE_URL:\n    cmd += ['--bundle_url', ARTIFACTS_BUNDLE_URL]\nif RERANKER_MODEL_URL:\n    cmd += ['--model_url', RERANKER_MODEL_URL]\nprint('Running:', ' '.join(cmd))\nimport subprocess\nres = subprocess.run(cmd, capture_output=True, text=True)\nprint(res.stdout)\nif res.returncode:\n    print(res.stderr)\n    raise SystemExit(res.returncode)\n!ls -l submissions | head -n 5"
  },
  {
   "cell_type": "markdown",
   "metadata": {},
   "source": [
    "## Evaluate\n",
    "Place/point to your ground truth JSON and select task."
   ]
  },
  {
   "cell_type": "code",
   "execution_count": null,
   "metadata": {},
   "outputs": [],
   "source": [
    "# Path to ground truth (e.g., from Drive)\n",
    "GT_PATH = 'ground_truth.json'  # update to your path\n",
    "TASK_EVAL = TASK               # 'kis' or 'vqa' or 'trake'\n",
    "NORMALIZE_ANS = False          # set True if needed for VQA\n",
    "\n",
    "cmd = ['python', 'eval/evaluate.py', '--gt', GT_PATH, '--pred_dir', 'submissions', '--task', TASK_EVAL]\n",
    "if NORMALIZE_ANS:\n",
    "    cmd.append('--normalize_answer')\n",
    "print('Evaluating:', ' '.join(cmd))\n",
    "import subprocess\n",
    "res = subprocess.run(cmd, capture_output=True, text=True)\n",
    "print(res.stdout)\n",
    "if res.returncode:\n",
    "    print(res.stderr)\n",
    "    raise SystemExit(res.returncode)\n"
   ]
  }
 ],
 "metadata": {
  "kernelspec": {
   "display_name": "Python 3",
   "language": "python",
   "name": "python3"
  },
  "language_info": {
   "codemirror_mode": {
    "name": "ipython",
    "version": 3
   },
   "file_extension": ".py",
   "mimetype": "text/x-python",
   "name": "python",
   "nbconvert_exporter": "python",
   "pygments_lexer": "ipython3",
   "version": "3.10"
  }
 },
 "nbformat": 4,
 "nbformat_minor": 5
}